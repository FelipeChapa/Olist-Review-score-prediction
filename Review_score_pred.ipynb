{
 "cells": [
  {
   "cell_type": "code",
   "execution_count": 1,
   "metadata": {},
   "outputs": [],
   "source": [
    "import pandas as pd\n",
    "import matplotlib.pyplot as plt\n",
    "import os\n",
    "import re\n",
    "import seaborn as sns\n"
   ]
  },
  {
   "cell_type": "markdown",
   "metadata": {},
   "source": [
    "## Import data"
   ]
  },
  {
   "cell_type": "code",
   "execution_count": 2,
   "metadata": {},
   "outputs": [
    {
     "name": "stdout",
     "output_type": "stream",
     "text": [
      "Tables in Olist database:\n",
      "# 0 :  olist_customers_dataset.csv\n",
      "# 1 :  olist_geolocation_dataset.csv\n",
      "# 2 :  olist_orders_dataset.csv\n",
      "# 3 :  olist_order_items_dataset.csv\n",
      "# 4 :  olist_order_payments_dataset.csv\n",
      "# 5 :  olist_order_reviews_dataset.csv\n",
      "# 6 :  olist_products_dataset.csv\n",
      "# 7 :  olist_sellers_dataset.csv\n"
     ]
    }
   ],
   "source": [
    "# Load required csv files\n",
    "dfs = []\n",
    "n = 0\n",
    "print('Tables in Olist database:')\n",
    "for files in os.listdir():\n",
    "    if re.search(r'olist_.*\\.csv',files):\n",
    "        print('#',n,': ',files)\n",
    "        n+=1\n",
    "        dfs.append(pd.read_csv(files))\n",
    "\n",
    "name_translation = pd.read_csv('product_category_name_translation.csv')\n"
   ]
  },
  {
   "cell_type": "code",
   "execution_count": 3,
   "metadata": {},
   "outputs": [],
   "source": [
    "# Merge desired columns\n",
    "\n",
    "# Orders + reviews\n",
    "clean_df = dfs[2].merge(dfs[5][['order_id','review_score']], left_on = 'order_id', right_on= 'order_id', how='left')\n",
    "\n",
    "# order items dataset\n",
    "clean_df = clean_df.merge(dfs[3][['order_id','product_id','seller_id','freight_value','price']], left_on = 'order_id', right_on = 'order_id', how='left')\n",
    "\n",
    "# products dataset\n",
    "clean_df = clean_df.merge(dfs[6][['product_id','product_category_name','product_photos_qty','product_description_lenght']], left_on = 'product_id', right_on = 'product_id', how='left')\n",
    "\n",
    "# sellers dataset\n",
    "clean_df = clean_df.merge(dfs[7][['seller_id','seller_state']], left_on = 'seller_id', right_on = 'seller_id', how='left')\n",
    "\n",
    "# Category name translations and drop portuguese names\n",
    "clean_df = clean_df.merge(name_translation, left_on = 'product_category_name', right_on = 'product_category_name', how = 'left')\n",
    "clean_df.drop(columns='product_category_name', inplace = True)\n"
   ]
  },
  {
   "cell_type": "code",
   "execution_count": 4,
   "metadata": {},
   "outputs": [
    {
     "name": "stdout",
     "output_type": "stream",
     "text": [
      "<class 'pandas.core.frame.DataFrame'>\n",
      "Int64Index: 108435 entries, 0 to 114091\n",
      "Data columns (total 19 columns):\n",
      " #   Column                         Non-Null Count   Dtype         \n",
      "---  ------                         --------------   -----         \n",
      " 0   order_id                       108435 non-null  object        \n",
      " 1   customer_id                    108435 non-null  object        \n",
      " 2   order_status                   108435 non-null  object        \n",
      " 3   order_purchase_timestamp       108435 non-null  datetime64[ns]\n",
      " 4   order_approved_at              108435 non-null  datetime64[ns]\n",
      " 5   order_delivered_carrier_date   108435 non-null  datetime64[ns]\n",
      " 6   order_delivered_customer_date  108435 non-null  datetime64[ns]\n",
      " 7   order_estimated_delivery_date  108435 non-null  datetime64[ns]\n",
      " 8   review_score                   108435 non-null  object        \n",
      " 9   product_id                     108435 non-null  object        \n",
      " 10  seller_id                      108435 non-null  object        \n",
      " 11  freight_value                  108435 non-null  float64       \n",
      " 12  price                          108435 non-null  float64       \n",
      " 13  product_photos_qty             108435 non-null  float64       \n",
      " 14  product_description_lenght     108435 non-null  float64       \n",
      " 15  seller_zip_code_prefix         108435 non-null  object        \n",
      " 16  seller_city                    108435 non-null  object        \n",
      " 17  seller_state                   108435 non-null  object        \n",
      " 18  product_category_name_english  108435 non-null  object        \n",
      "dtypes: datetime64[ns](5), float64(4), object(10)\n",
      "memory usage: 16.5+ MB\n"
     ]
    }
   ],
   "source": [
    "# Clean merged dataset - parse data types and handle NaN\n",
    "clean_df[['order_purchase_timestamp','order_approved_at','order_delivered_carrier_date','order_delivered_customer_date','order_estimated_delivery_date']] = clean_df[['order_purchase_timestamp','order_approved_at','order_delivered_carrier_date','order_delivered_customer_date','order_estimated_delivery_date']].apply(pd.to_datetime)\n",
    "clean_df = clean_df[clean_df['order_status']=='delivered'].dropna()\n",
    "clean_df['review_score'] = clean_df['review_score'].astype(int).astype(str)\n",
    "#clean_df['seller_zip_code_prefix'] = clean_df['seller_zip_code_prefix'].astype(str)\n",
    "clean_df.info()"
   ]
  },
  {
   "cell_type": "code",
   "execution_count": 5,
   "metadata": {},
   "outputs": [],
   "source": [
    "# Release memory (delete original unmerged dataframes)\n",
    "del dfs"
   ]
  },
  {
   "cell_type": "code",
   "execution_count": 6,
   "metadata": {},
   "outputs": [],
   "source": [
    "# Feature engineering. Create and transform columns \n",
    "clean_df['days_order_to_customer'] = (clean_df['order_delivered_customer_date']-clean_df['order_purchase_timestamp']).dt.days\n",
    "clean_df['days_order_to_approved'] = (clean_df['order_approved_at']-clean_df['order_purchase_timestamp']).dt.days\n",
    "clean_df['days_order_to_carrier'] = (clean_df['order_delivered_carrier_date']-clean_df['order_purchase_timestamp']).dt.days\n",
    "clean_df['days_order_to_estimated_delivery'] = (clean_df['order_estimated_delivery_date']-clean_df['order_purchase_timestamp']).dt.days\n",
    "\n",
    "#Drop original date columns\n",
    "clean_df.drop(columns=['order_delivered_customer_date','order_approved_at','order_delivered_carrier_date','order_estimated_delivery_date','order_purchase_timestamp'],inplace=True)\n",
    "\n",
    "#Drop id columns\n",
    "clean_df.drop(columns=['order_id','product_id','seller_id', 'customer_id', 'order_status'], inplace=True)\n",
    "\n",
    "#Reorder columns\n"
   ]
  },
  {
   "cell_type": "code",
   "execution_count": 7,
   "metadata": {},
   "outputs": [
    {
     "name": "stdout",
     "output_type": "stream",
     "text": [
      "<class 'pandas.core.frame.DataFrame'>\n",
      "Int64Index: 108435 entries, 0 to 114091\n",
      "Data columns (total 13 columns):\n",
      " #   Column                            Non-Null Count   Dtype  \n",
      "---  ------                            --------------   -----  \n",
      " 0   review_score                      108435 non-null  object \n",
      " 1   freight_value                     108435 non-null  float64\n",
      " 2   price                             108435 non-null  float64\n",
      " 3   product_photos_qty                108435 non-null  float64\n",
      " 4   product_description_lenght        108435 non-null  float64\n",
      " 5   seller_zip_code_prefix            108435 non-null  object \n",
      " 6   seller_city                       108435 non-null  object \n",
      " 7   seller_state                      108435 non-null  object \n",
      " 8   product_category_name_english     108435 non-null  object \n",
      " 9   days_order_to_customer            108435 non-null  int64  \n",
      " 10  days_order_to_approved            108435 non-null  int64  \n",
      " 11  days_order_to_carrier             108435 non-null  int64  \n",
      " 12  days_order_to_estimated_delivery  108435 non-null  int64  \n",
      "dtypes: float64(4), int64(4), object(5)\n",
      "memory usage: 11.6+ MB\n"
     ]
    }
   ],
   "source": [
    "clean_df.info()"
   ]
  },
  {
   "cell_type": "code",
   "execution_count": 8,
   "metadata": {},
   "outputs": [
    {
     "data": {
      "text/html": [
       "<div>\n",
       "<style scoped>\n",
       "    .dataframe tbody tr th:only-of-type {\n",
       "        vertical-align: middle;\n",
       "    }\n",
       "\n",
       "    .dataframe tbody tr th {\n",
       "        vertical-align: top;\n",
       "    }\n",
       "\n",
       "    .dataframe thead th {\n",
       "        text-align: right;\n",
       "    }\n",
       "</style>\n",
       "<table border=\"1\" class=\"dataframe\">\n",
       "  <thead>\n",
       "    <tr style=\"text-align: right;\">\n",
       "      <th></th>\n",
       "      <th>review_score</th>\n",
       "      <th>freight_value</th>\n",
       "      <th>price</th>\n",
       "      <th>product_photos_qty</th>\n",
       "      <th>product_description_lenght</th>\n",
       "      <th>seller_zip_code_prefix</th>\n",
       "      <th>seller_city</th>\n",
       "      <th>seller_state</th>\n",
       "      <th>product_category_name_english</th>\n",
       "      <th>days_order_to_customer</th>\n",
       "      <th>days_order_to_approved</th>\n",
       "      <th>days_order_to_carrier</th>\n",
       "      <th>days_order_to_estimated_delivery</th>\n",
       "    </tr>\n",
       "  </thead>\n",
       "  <tbody>\n",
       "    <tr>\n",
       "      <th>count</th>\n",
       "      <td>108435</td>\n",
       "      <td>108435.000000</td>\n",
       "      <td>108435.000000</td>\n",
       "      <td>108435.000000</td>\n",
       "      <td>108435.00000</td>\n",
       "      <td>108435</td>\n",
       "      <td>108435</td>\n",
       "      <td>108435</td>\n",
       "      <td>108435</td>\n",
       "      <td>108435.000000</td>\n",
       "      <td>108435.000000</td>\n",
       "      <td>108435.000000</td>\n",
       "      <td>108435.000000</td>\n",
       "    </tr>\n",
       "    <tr>\n",
       "      <th>unique</th>\n",
       "      <td>5</td>\n",
       "      <td>NaN</td>\n",
       "      <td>NaN</td>\n",
       "      <td>NaN</td>\n",
       "      <td>NaN</td>\n",
       "      <td>2133</td>\n",
       "      <td>587</td>\n",
       "      <td>22</td>\n",
       "      <td>71</td>\n",
       "      <td>NaN</td>\n",
       "      <td>NaN</td>\n",
       "      <td>NaN</td>\n",
       "      <td>NaN</td>\n",
       "    </tr>\n",
       "    <tr>\n",
       "      <th>top</th>\n",
       "      <td>5</td>\n",
       "      <td>NaN</td>\n",
       "      <td>NaN</td>\n",
       "      <td>NaN</td>\n",
       "      <td>NaN</td>\n",
       "      <td>14940.0</td>\n",
       "      <td>sao paulo</td>\n",
       "      <td>SP</td>\n",
       "      <td>bed_bath_table</td>\n",
       "      <td>NaN</td>\n",
       "      <td>NaN</td>\n",
       "      <td>NaN</td>\n",
       "      <td>NaN</td>\n",
       "    </tr>\n",
       "    <tr>\n",
       "      <th>freq</th>\n",
       "      <td>62449</td>\n",
       "      <td>NaN</td>\n",
       "      <td>NaN</td>\n",
       "      <td>NaN</td>\n",
       "      <td>NaN</td>\n",
       "      <td>7638</td>\n",
       "      <td>27052</td>\n",
       "      <td>77336</td>\n",
       "      <td>10984</td>\n",
       "      <td>NaN</td>\n",
       "      <td>NaN</td>\n",
       "      <td>NaN</td>\n",
       "      <td>NaN</td>\n",
       "    </tr>\n",
       "    <tr>\n",
       "      <th>mean</th>\n",
       "      <td>NaN</td>\n",
       "      <td>19.967251</td>\n",
       "      <td>119.792305</td>\n",
       "      <td>2.208088</td>\n",
       "      <td>786.34914</td>\n",
       "      <td>NaN</td>\n",
       "      <td>NaN</td>\n",
       "      <td>NaN</td>\n",
       "      <td>NaN</td>\n",
       "      <td>11.965795</td>\n",
       "      <td>0.271388</td>\n",
       "      <td>2.784415</td>\n",
       "      <td>23.446655</td>\n",
       "    </tr>\n",
       "    <tr>\n",
       "      <th>std</th>\n",
       "      <td>NaN</td>\n",
       "      <td>15.700969</td>\n",
       "      <td>180.499347</td>\n",
       "      <td>1.719961</td>\n",
       "      <td>650.84363</td>\n",
       "      <td>NaN</td>\n",
       "      <td>NaN</td>\n",
       "      <td>NaN</td>\n",
       "      <td>NaN</td>\n",
       "      <td>9.350417</td>\n",
       "      <td>0.749775</td>\n",
       "      <td>3.625204</td>\n",
       "      <td>8.833060</td>\n",
       "    </tr>\n",
       "    <tr>\n",
       "      <th>min</th>\n",
       "      <td>NaN</td>\n",
       "      <td>0.000000</td>\n",
       "      <td>0.850000</td>\n",
       "      <td>1.000000</td>\n",
       "      <td>4.00000</td>\n",
       "      <td>NaN</td>\n",
       "      <td>NaN</td>\n",
       "      <td>NaN</td>\n",
       "      <td>NaN</td>\n",
       "      <td>0.000000</td>\n",
       "      <td>0.000000</td>\n",
       "      <td>-172.000000</td>\n",
       "      <td>2.000000</td>\n",
       "    </tr>\n",
       "    <tr>\n",
       "      <th>25%</th>\n",
       "      <td>NaN</td>\n",
       "      <td>13.080000</td>\n",
       "      <td>39.900000</td>\n",
       "      <td>1.000000</td>\n",
       "      <td>347.00000</td>\n",
       "      <td>NaN</td>\n",
       "      <td>NaN</td>\n",
       "      <td>NaN</td>\n",
       "      <td>NaN</td>\n",
       "      <td>6.000000</td>\n",
       "      <td>0.000000</td>\n",
       "      <td>1.000000</td>\n",
       "      <td>18.000000</td>\n",
       "    </tr>\n",
       "    <tr>\n",
       "      <th>50%</th>\n",
       "      <td>NaN</td>\n",
       "      <td>16.280000</td>\n",
       "      <td>74.900000</td>\n",
       "      <td>1.000000</td>\n",
       "      <td>601.00000</td>\n",
       "      <td>NaN</td>\n",
       "      <td>NaN</td>\n",
       "      <td>NaN</td>\n",
       "      <td>NaN</td>\n",
       "      <td>10.000000</td>\n",
       "      <td>0.000000</td>\n",
       "      <td>2.000000</td>\n",
       "      <td>23.000000</td>\n",
       "    </tr>\n",
       "    <tr>\n",
       "      <th>75%</th>\n",
       "      <td>NaN</td>\n",
       "      <td>21.150000</td>\n",
       "      <td>134.000000</td>\n",
       "      <td>3.000000</td>\n",
       "      <td>985.00000</td>\n",
       "      <td>NaN</td>\n",
       "      <td>NaN</td>\n",
       "      <td>NaN</td>\n",
       "      <td>NaN</td>\n",
       "      <td>15.000000</td>\n",
       "      <td>0.000000</td>\n",
       "      <td>4.000000</td>\n",
       "      <td>28.000000</td>\n",
       "    </tr>\n",
       "    <tr>\n",
       "      <th>max</th>\n",
       "      <td>NaN</td>\n",
       "      <td>409.680000</td>\n",
       "      <td>6735.000000</td>\n",
       "      <td>20.000000</td>\n",
       "      <td>3992.00000</td>\n",
       "      <td>NaN</td>\n",
       "      <td>NaN</td>\n",
       "      <td>NaN</td>\n",
       "      <td>NaN</td>\n",
       "      <td>208.000000</td>\n",
       "      <td>30.000000</td>\n",
       "      <td>107.000000</td>\n",
       "      <td>155.000000</td>\n",
       "    </tr>\n",
       "  </tbody>\n",
       "</table>\n",
       "</div>"
      ],
      "text/plain": [
       "       review_score  freight_value          price  product_photos_qty  \\\n",
       "count        108435  108435.000000  108435.000000       108435.000000   \n",
       "unique            5            NaN            NaN                 NaN   \n",
       "top               5            NaN            NaN                 NaN   \n",
       "freq          62449            NaN            NaN                 NaN   \n",
       "mean            NaN      19.967251     119.792305            2.208088   \n",
       "std             NaN      15.700969     180.499347            1.719961   \n",
       "min             NaN       0.000000       0.850000            1.000000   \n",
       "25%             NaN      13.080000      39.900000            1.000000   \n",
       "50%             NaN      16.280000      74.900000            1.000000   \n",
       "75%             NaN      21.150000     134.000000            3.000000   \n",
       "max             NaN     409.680000    6735.000000           20.000000   \n",
       "\n",
       "        product_description_lenght seller_zip_code_prefix seller_city  \\\n",
       "count                 108435.00000                 108435      108435   \n",
       "unique                         NaN                   2133         587   \n",
       "top                            NaN                14940.0   sao paulo   \n",
       "freq                           NaN                   7638       27052   \n",
       "mean                     786.34914                    NaN         NaN   \n",
       "std                      650.84363                    NaN         NaN   \n",
       "min                        4.00000                    NaN         NaN   \n",
       "25%                      347.00000                    NaN         NaN   \n",
       "50%                      601.00000                    NaN         NaN   \n",
       "75%                      985.00000                    NaN         NaN   \n",
       "max                     3992.00000                    NaN         NaN   \n",
       "\n",
       "       seller_state product_category_name_english  days_order_to_customer  \\\n",
       "count        108435                        108435           108435.000000   \n",
       "unique           22                            71                     NaN   \n",
       "top              SP                bed_bath_table                     NaN   \n",
       "freq          77336                         10984                     NaN   \n",
       "mean            NaN                           NaN               11.965795   \n",
       "std             NaN                           NaN                9.350417   \n",
       "min             NaN                           NaN                0.000000   \n",
       "25%             NaN                           NaN                6.000000   \n",
       "50%             NaN                           NaN               10.000000   \n",
       "75%             NaN                           NaN               15.000000   \n",
       "max             NaN                           NaN              208.000000   \n",
       "\n",
       "        days_order_to_approved  days_order_to_carrier  \\\n",
       "count            108435.000000          108435.000000   \n",
       "unique                     NaN                    NaN   \n",
       "top                        NaN                    NaN   \n",
       "freq                       NaN                    NaN   \n",
       "mean                  0.271388               2.784415   \n",
       "std                   0.749775               3.625204   \n",
       "min                   0.000000            -172.000000   \n",
       "25%                   0.000000               1.000000   \n",
       "50%                   0.000000               2.000000   \n",
       "75%                   0.000000               4.000000   \n",
       "max                  30.000000             107.000000   \n",
       "\n",
       "        days_order_to_estimated_delivery  \n",
       "count                      108435.000000  \n",
       "unique                               NaN  \n",
       "top                                  NaN  \n",
       "freq                                 NaN  \n",
       "mean                           23.446655  \n",
       "std                             8.833060  \n",
       "min                             2.000000  \n",
       "25%                            18.000000  \n",
       "50%                            23.000000  \n",
       "75%                            28.000000  \n",
       "max                           155.000000  "
      ]
     },
     "execution_count": 8,
     "metadata": {},
     "output_type": "execute_result"
    }
   ],
   "source": [
    "clean_df.describe(include='all')"
   ]
  },
  {
   "cell_type": "markdown",
   "metadata": {},
   "source": [
    "## EDA"
   ]
  },
  {
   "cell_type": "code",
   "execution_count": 9,
   "metadata": {},
   "outputs": [
    {
     "data": {
      "text/plain": [
       "Text(0.5, 1.0, 'Linear correlation heatmap')"
      ]
     },
     "execution_count": 9,
     "metadata": {},
     "output_type": "execute_result"
    },
    {
     "data": {
      "image/png": "[encoded data removed]",
      "text/plain": [
       "<Figure size 864x648 with 2 Axes>"
      ]
     },
     "metadata": {
      "needs_background": "light"
     },
     "output_type": "display_data"
    }
   ],
   "source": [
    "plt.figure(figsize=(12,9))\n",
    "sns.heatmap(clean_df.corr(), annot=True, cmap='BrBG')\n",
    "plt.title('Linear correlation heatmap')"
   ]
  },
  {
   "cell_type": "code",
   "execution_count": 10,
   "metadata": {},
   "outputs": [
    {
     "data": {
      "text/plain": [
       "Text(0.5, 1.0, 'Original review scores distribution - Imbalanced classes')"
      ]
     },
     "execution_count": 10,
     "metadata": {},
     "output_type": "execute_result"
    },
    {
     "data": {
      "image/png": "[encoded data removed]",
      "text/plain": [
       "<Figure size 432x288 with 1 Axes>"
      ]
     },
     "metadata": {
      "needs_background": "light"
     },
     "output_type": "display_data"
    }
   ],
   "source": [
    "plt.figure(figsize=(6,4))\n",
    "sns.histplot(clean_df.review_score.sort_values())\n",
    "plt.title('Original review scores distribution - Imbalanced classes')"
   ]
  },
  {
   "cell_type": "markdown",
   "metadata": {},
   "source": [
    "We can see the prediciton classes are very imbalanced. The values are also what we could expect from review scores, as people usually vote for either high or low vlaues.\n",
    "Due to this, we decided to stratify as well as handle the imbalance by under/over sampling"
   ]
  },
  {
   "cell_type": "markdown",
   "metadata": {},
   "source": [
    "## Model development"
   ]
  },
  {
   "cell_type": "code",
   "execution_count": 11,
   "metadata": {},
   "outputs": [],
   "source": [
    "from sklearn.ensemble import RandomForestClassifier\n",
    "from sklearn.pipeline import make_pipeline\n",
    "from sklearn.model_selection import train_test_split\n",
    "from sklearn.preprocessing import StandardScaler\n",
    "from sklearn.compose import ColumnTransformer\n",
    "from sklearn.linear_model import LogisticRegression\n",
    "import xgboost as xgb\n",
    "from sklearn.metrics import accuracy_score, confusion_matrix\n",
    "from sklearn.cluster import KMeans\n",
    "from imblearn.over_sampling import RandomOverSampler \n"
   ]
  },
  {
   "cell_type": "markdown",
   "metadata": {},
   "source": [
    "### Bootstrap / Training and validation split / One hot encode"
   ]
  },
  {
   "cell_type": "code",
   "execution_count": 25,
   "metadata": {},
   "outputs": [],
   "source": [
    "#Train test split\n",
    "X = clean_df.drop(columns=['review_score'])\n",
    "y = clean_df['review_score']\n",
    "\n",
    "# Handle imbalanced set\n",
    "oversample = RandomOverSampler(sampling_strategy='auto', random_state = 25) #Oversampling strategy\n",
    "X, y = oversample.fit_resample(X, y)\n",
    "\n",
    "# One hot encode\n",
    "X = pd.get_dummies(X)\n",
    "\n",
    "#Train test split\n",
    "X_train, X_test, y_train, y_test = train_test_split(X, y, test_size=0.25, random_state=25, stratify=y)"
   ]
  },
  {
   "cell_type": "code",
   "execution_count": 13,
   "metadata": {},
   "outputs": [
    {
     "data": {
      "image/png": "[encoded data removed]",
      "text/plain": [
       "<Figure size 432x288 with 1 Axes>"
      ]
     },
     "metadata": {
      "needs_background": "light"
     },
     "output_type": "display_data"
    }
   ],
   "source": [
    "# Plot review scores after sampling strategy\n",
    "plt.figure(figsize=(6,4))\n",
    "sns.histplot(y.sort_values())\n",
    "plt.title('Review scores after sampling strategy - Balanced classes')\n",
    "plt.show()"
   ]
  },
  {
   "cell_type": "markdown",
   "metadata": {},
   "source": [
    "### Clustering - optimal size"
   ]
  },
  {
   "cell_type": "code",
   "execution_count": 14,
   "metadata": {},
   "outputs": [
    {
     "data": {
      "image/png": "[encoded data removed]",
      "text/plain": [
       "<Figure size 720x504 with 1 Axes>"
      ]
     },
     "metadata": {
      "needs_background": "light"
     },
     "output_type": "display_data"
    }
   ],
   "source": [
    "optimal_k = 4 #Change after analyzing graph\n",
    "\n",
    "# Determine optimal cluster size by the elbow method\n",
    "Sum_of_squared_distances = []\n",
    "K = range(1,14)\n",
    "for k in K:\n",
    "    km = KMeans(n_clusters=k)\n",
    "    km = km.fit(X_train)\n",
    "    Sum_of_squared_distances.append(km.inertia_)\n",
    "\n",
    "# Plot elbow method\n",
    "plt.figure(figsize=(10,7))\n",
    "plt.plot(K, Sum_of_squared_distances, 'bx-')\n",
    "plt.plot([optimal_k],[Sum_of_squared_distances[optimal_k-1]], 'ro',markersize=12)\n",
    "plt.xlabel('k')\n",
    "plt.ylabel('Sum_of_squared_distances')\n",
    "plt.title('Elbow Method For Optimal k')\n",
    "plt.show()"
   ]
  },
  {
   "cell_type": "markdown",
   "metadata": {},
   "source": [
    "We determined through the elbow method that k=4 was a good cluster size for this dataset"
   ]
  },
  {
   "cell_type": "markdown",
   "metadata": {},
   "source": [
    "### Clustering - augmenting data"
   ]
  },
  {
   "cell_type": "code",
   "execution_count": 26,
   "metadata": {},
   "outputs": [],
   "source": [
    "#### Get cluster labels for optimal cluster size\n",
    "km = KMeans(n_clusters=optimal_k)\n",
    "km.fit_transform(X_train)\n",
    "\n",
    "# Add labels to dataset\n",
    "X_train['cluster_cat'] = km.labels_\n",
    "X_test['cluster_cat'] = km.predict(X_test)\n",
    "\n",
    "# One hot encode\n",
    "X_train = X_train.drop(columns=['cluster_cat']).join(pd.get_dummies(X_train['cluster_cat']))\n",
    "X_test = X_test.drop(columns=['cluster_cat']).join(pd.get_dummies(X_test['cluster_cat']))\n"
   ]
  },
  {
   "cell_type": "markdown",
   "metadata": {},
   "source": [
    "### Model pipeline - preprocessing and fit"
   ]
  },
  {
   "cell_type": "markdown",
   "metadata": {},
   "source": [
    "#### Random Forest"
   ]
  },
  {
   "cell_type": "code",
   "execution_count": 16,
   "metadata": {},
   "outputs": [
    {
     "name": "stderr",
     "output_type": "stream",
     "text": [
      "D:\\anaconda3\\lib\\site-packages\\sklearn\\utils\\validation.py:1673: FutureWarning: Feature names only support names that are all strings. Got feature names with dtypes: ['int', 'str']. An error will be raised in 1.2.\n",
      "  warnings.warn(\n",
      "[Parallel(n_jobs=1)]: Using backend SequentialBackend with 1 concurrent workers.\n"
     ]
    },
    {
     "name": "stdout",
     "output_type": "stream",
     "text": [
      "building tree 1 of 100\n"
     ]
    },
    {
     "name": "stderr",
     "output_type": "stream",
     "text": [
      "[Parallel(n_jobs=1)]: Done   1 out of   1 | elapsed:    1.7s remaining:    0.0s\n"
     ]
    },
    {
     "name": "stdout",
     "output_type": "stream",
     "text": [
      "building tree 2 of 100\n",
      "building tree 3 of 100\n",
      "building tree 4 of 100\n",
      "building tree 5 of 100\n",
      "building tree 6 of 100\n",
      "building tree 7 of 100\n",
      "building tree 8 of 100\n",
      "building tree 9 of 100\n",
      "building tree 10 of 100\n",
      "building tree 11 of 100\n",
      "building tree 12 of 100\n",
      "building tree 13 of 100\n",
      "building tree 14 of 100\n",
      "building tree 15 of 100\n",
      "building tree 16 of 100\n",
      "building tree 17 of 100\n",
      "building tree 18 of 100\n",
      "building tree 19 of 100\n",
      "building tree 20 of 100\n",
      "building tree 21 of 100\n",
      "building tree 22 of 100\n",
      "building tree 23 of 100\n",
      "building tree 24 of 100\n",
      "building tree 25 of 100\n",
      "building tree 26 of 100\n",
      "building tree 27 of 100\n",
      "building tree 28 of 100\n",
      "building tree 29 of 100\n",
      "building tree 30 of 100\n",
      "building tree 31 of 100\n",
      "building tree 32 of 100\n",
      "building tree 33 of 100\n",
      "building tree 34 of 100\n",
      "building tree 35 of 100\n",
      "building tree 36 of 100\n",
      "building tree 37 of 100\n",
      "building tree 38 of 100\n",
      "building tree 39 of 100\n",
      "building tree 40 of 100\n",
      "building tree 41 of 100\n",
      "building tree 42 of 100\n",
      "building tree 43 of 100\n",
      "building tree 44 of 100\n",
      "building tree 45 of 100\n",
      "building tree 46 of 100\n",
      "building tree 47 of 100\n",
      "building tree 48 of 100\n",
      "building tree 49 of 100\n",
      "building tree 50 of 100\n",
      "building tree 51 of 100\n",
      "building tree 52 of 100\n",
      "building tree 53 of 100\n",
      "building tree 54 of 100\n",
      "building tree 55 of 100\n",
      "building tree 56 of 100\n",
      "building tree 57 of 100\n",
      "building tree 58 of 100\n",
      "building tree 59 of 100\n",
      "building tree 60 of 100\n",
      "building tree 61 of 100\n",
      "building tree 62 of 100\n",
      "building tree 63 of 100\n",
      "building tree 64 of 100\n",
      "building tree 65 of 100\n",
      "building tree 66 of 100\n",
      "building tree 67 of 100\n",
      "building tree 68 of 100\n",
      "building tree 69 of 100\n",
      "building tree 70 of 100\n",
      "building tree 71 of 100\n",
      "building tree 72 of 100\n",
      "building tree 73 of 100\n",
      "building tree 74 of 100\n",
      "building tree 75 of 100\n",
      "building tree 76 of 100\n",
      "building tree 77 of 100\n",
      "building tree 78 of 100\n",
      "building tree 79 of 100\n",
      "building tree 80 of 100\n",
      "building tree 81 of 100\n",
      "building tree 82 of 100\n",
      "building tree 83 of 100\n",
      "building tree 84 of 100\n",
      "building tree 85 of 100\n",
      "building tree 86 of 100\n",
      "building tree 87 of 100\n",
      "building tree 88 of 100\n",
      "building tree 89 of 100\n",
      "building tree 90 of 100\n",
      "building tree 91 of 100\n",
      "building tree 92 of 100\n",
      "building tree 93 of 100\n",
      "building tree 94 of 100\n",
      "building tree 95 of 100\n",
      "building tree 96 of 100\n",
      "building tree 97 of 100\n",
      "building tree 98 of 100\n",
      "building tree 99 of 100\n",
      "building tree 100 of 100\n"
     ]
    },
    {
     "name": "stderr",
     "output_type": "stream",
     "text": [
      "[Parallel(n_jobs=1)]: Done 100 out of 100 | elapsed:  3.2min finished\n",
      "D:\\anaconda3\\lib\\site-packages\\sklearn\\utils\\validation.py:1673: FutureWarning: Feature names only support names that are all strings. Got feature names with dtypes: ['int', 'str']. An error will be raised in 1.2.\n",
      "  warnings.warn(\n",
      "[Parallel(n_jobs=1)]: Using backend SequentialBackend with 1 concurrent workers.\n",
      "[Parallel(n_jobs=1)]: Done   1 out of   1 | elapsed:    0.0s remaining:    0.0s\n",
      "[Parallel(n_jobs=1)]: Done 100 out of 100 | elapsed:    4.1s finished\n",
      "D:\\anaconda3\\lib\\site-packages\\sklearn\\utils\\validation.py:1673: FutureWarning: Feature names only support names that are all strings. Got feature names with dtypes: ['int', 'str']. An error will be raised in 1.2.\n",
      "  warnings.warn(\n",
      "[Parallel(n_jobs=1)]: Using backend SequentialBackend with 1 concurrent workers.\n",
      "[Parallel(n_jobs=1)]: Done   1 out of   1 | elapsed:    0.0s remaining:    0.0s\n",
      "[Parallel(n_jobs=1)]: Done 100 out of 100 | elapsed:   12.3s finished\n"
     ]
    },
    {
     "name": "stdout",
     "output_type": "stream",
     "text": [
      "0.9969553725078251\n"
     ]
    },
    {
     "name": "stderr",
     "output_type": "stream",
     "text": [
      "D:\\anaconda3\\lib\\site-packages\\sklearn\\utils\\validation.py:1673: FutureWarning: Feature names only support names that are all strings. Got feature names with dtypes: ['int', 'str']. An error will be raised in 1.2.\n",
      "  warnings.warn(\n",
      "[Parallel(n_jobs=1)]: Using backend SequentialBackend with 1 concurrent workers.\n",
      "[Parallel(n_jobs=1)]: Done   1 out of   1 | elapsed:    0.0s remaining:    0.0s\n"
     ]
    },
    {
     "name": "stdout",
     "output_type": "stream",
     "text": [
      "0.9458251133714227\n"
     ]
    },
    {
     "name": "stderr",
     "output_type": "stream",
     "text": [
      "[Parallel(n_jobs=1)]: Done 100 out of 100 | elapsed:    4.0s finished\n"
     ]
    }
   ],
   "source": [
    "# Random Forest Classifier Pipeline\n",
    "\n",
    "# Define scalers and model to train. Random Forest does not require scaling\n",
    "RFR = RandomForestClassifier(n_estimators=100, verbose=1)\n",
    "\n",
    "# Define numeric and categorical columns to apply different preprocessing\n",
    "num_cols = X._get_numeric_data().columns\n",
    "cat_cols = list(set(X.columns) - set(X._get_numeric_data().columns))\n",
    "\n",
    "# Pipeline building\n",
    "rf_pipe = make_pipeline(RFR)\n",
    "\n",
    "#Fit model\n",
    "rf_pipe.fit(X_train,y_train)\n",
    "\n",
    "rf_y_pred = rf_pipe.predict(X_test)\n",
    "\n",
    "print(rf_pipe.score(X_train, y_train))\n",
    "print(rf_pipe.score(X_test,y_test))"
   ]
  },
  {
   "cell_type": "markdown",
   "metadata": {},
   "source": [
    "#### Logistic Regression"
   ]
  },
  {
   "cell_type": "code",
   "execution_count": 29,
   "metadata": {},
   "outputs": [
    {
     "name": "stderr",
     "output_type": "stream",
     "text": [
      "D:\\anaconda3\\lib\\site-packages\\sklearn\\utils\\validation.py:1673: FutureWarning: Feature names only support names that are all strings. Got feature names with dtypes: ['int', 'str']. An error will be raised in 1.2.\n",
      "  warnings.warn(\n"
     ]
    },
    {
     "name": "stdout",
     "output_type": "stream",
     "text": [
      "0.28151061349457474\n",
      "0.2762932028387692\n"
     ]
    }
   ],
   "source": [
    "# Logistic Regression Pipeline\n",
    "\n",
    "# Define scalers and model to train\n",
    "scaler = StandardScaler()\n",
    "LR = LogisticRegression(max_iter=200, multi_class='multinomial')\n",
    "\n",
    "# Define numeric and categorical columns to apply different preprocessing\n",
    "num_cols = X._get_numeric_data().columns\n",
    "cat_cols = list(set(X.columns) - set(X._get_numeric_data().columns))\n",
    "\n",
    "# Transformer to apply transformations to categorical and numeric columns\n",
    "transformer = ColumnTransformer([('num_cols', scaler, num_cols)])\n",
    "\n",
    "# Pipeline building\n",
    "rf_pipe = make_pipeline(transformer,LR)\n",
    "\n",
    "#Fit model\n",
    "rf_pipe.fit(X_train,y_train)\n",
    "\n",
    "logReg_y_pred = rf_pipe.predict(X_test)\n",
    "\n",
    "print(accuracy_score(y_train, rf_pipe.predict(X_train)))\n",
    "print(accuracy_score(y_test, logReg_y_pred))\n"
   ]
  },
  {
   "cell_type": "markdown",
   "metadata": {},
   "source": [
    "#### XGBoost"
   ]
  },
  {
   "cell_type": "code",
   "execution_count": 32,
   "metadata": {},
   "outputs": [
    {
     "name": "stderr",
     "output_type": "stream",
     "text": [
      "D:\\anaconda3\\lib\\site-packages\\sklearn\\utils\\validation.py:1673: FutureWarning: Feature names only support names that are all strings. Got feature names with dtypes: ['int', 'str']. An error will be raised in 1.2.\n",
      "  warnings.warn(\n"
     ]
    },
    {
     "name": "stdout",
     "output_type": "stream",
     "text": [
      "[03:52:19] WARNING: D:\\bld\\xgboost-split_1631904903843\\work\\src\\learner.cc:1095: Starting in XGBoost 1.3.0, the default evaluation metric used with the objective 'multi:softprob' was changed from 'merror' to 'mlogloss'. Explicitly set eval_metric if you'd like to restore the old behavior.\n",
      "0.519602191448568\n",
      "0.4891496502779842\n"
     ]
    }
   ],
   "source": [
    "# XGBoost Pipeline\n",
    "\n",
    "# Define scalers and model to train\n",
    "scaler = StandardScaler()\n",
    "XGBoost = xgb.XGBClassifier(objective='multi:softmax', num_class=len(y.unique()), use_label_encoder=False)\n",
    "\n",
    "# Define numeric and categorical columns to apply different preprocessing\n",
    "num_cols = X._get_numeric_data().columns\n",
    "cat_cols = list(set(X.columns) - set(X._get_numeric_data().columns))\n",
    "\n",
    "# Transformer to apply transformations to categorical and numeric columns\n",
    "transformer = ColumnTransformer([('num_cols', scaler, num_cols)])\n",
    "\n",
    "# Pipeline building\n",
    "rf_pipe = make_pipeline(transformer,XGBoost)\n",
    "\n",
    "#Fit model\n",
    "rf_pipe.fit(X_train,y_train.astype(int)-1)\n",
    "\n",
    "xgboost_y_pred = rf_pipe.predict(X_test)\n",
    "\n",
    "print(accuracy_score(y_train.astype(int)-1, rf_pipe.predict(X_train)))\n",
    "print(accuracy_score(y_test.astype(int)-1, xgboost_y_pred))\n",
    "\n",
    "xgboost_y_pred+=1\n",
    "xgboost_y_pred = xgboost_y_pred.astype(str)"
   ]
  },
  {
   "cell_type": "markdown",
   "metadata": {},
   "source": [
    "### Model evaluation"
   ]
  },
  {
   "cell_type": "code",
   "execution_count": 33,
   "metadata": {},
   "outputs": [
    {
     "data": {
      "image/png": "[encoded data removed]",
      "text/plain": [
       "<Figure size 1152x288 with 3 Axes>"
      ]
     },
     "metadata": {
      "needs_background": "light"
     },
     "output_type": "display_data"
    }
   ],
   "source": [
    "fig, ax = plt.subplots(1,3, figsize=(16,4))\n",
    "\n",
    "sns.heatmap(confusion_matrix(y_test, rf_y_pred), annot=True, ax=ax[0], cbar=False, fmt=\"d\")\n",
    "ax[0].set_title('Random Forest')\n",
    "ax[0].set_xlabel('Review score: Pedicted')\n",
    "ax[0].set_ylabel('Review score: True')\n",
    "ax[0].xaxis.set_ticklabels(['1', '2','3','4','5']); ax[0].yaxis.set_ticklabels(['1', '2','3','4','5'])\n",
    "\n",
    "sns.heatmap(confusion_matrix(y_test, logReg_y_pred), annot=True, ax=ax[1], cbar=False, fmt=\"d\")\n",
    "ax[1].set_title('Logistic Regression')\n",
    "ax[1].set_xlabel('Review score: Pedicted')\n",
    "ax[1].set_ylabel('Review score: True')\n",
    "ax[1].xaxis.set_ticklabels(['1', '2','3','4','5']); ax[1].yaxis.set_ticklabels(['1', '2','3','4','5'])\n",
    "\n",
    "sns.heatmap(confusion_matrix(y_test, xgboost_y_pred), annot=True, ax=ax[2], cbar=False, fmt=\"d\")\n",
    "ax[2].set_title('XGBoost Classifier')\n",
    "ax[2].set_xlabel('Review score: Pedicted')\n",
    "ax[2].set_ylabel('Review score: True')\n",
    "ax[2].xaxis.set_ticklabels(['1', '2','3','4','5']); ax[2].yaxis.set_ticklabels(['1', '2','3','4','5'])\n",
    "\n",
    "# print accuracy and recall...\n",
    "\n",
    "plt.show()"
   ]
  },
  {
   "cell_type": "markdown",
   "metadata": {},
   "source": [
    "# Current steps taken:\n",
    "__Note:__ I decided to treat problem as a classification problem since review scores were integers 1-5  \n",
    "__Note 2:__ I believe seller location to be a good predictor. However, having city names and zip codes greatly increases columns which makes models slow/not converge. Maybe we could replace them with a single float column based on distance from zip code of seller and customer.\n",
    "1. Merged desired columns.\n",
    "2. Selected only orders marked as 'delivered'.\n",
    "3. dropped all columns that contained any NaN.\n",
    "4. EDA\n",
    "5. feature engineering (see notebook section). Added mainly the date difference columns.\n",
    "6. Over-sampled to get rid of the imbalanced dataset. Note: Random forest performs very well and all others very bad. Under sampling yields very bad performance for all. \n",
    "7. Stratified train test split.\n",
    "8. Clustering (seems to not have an impact, could try creating a model for each cluster).\n",
    "9. One hot encoded.\n",
    "10. Trained: Random forest, logistic regression, XGBoost."
   ]
  },
  {
   "cell_type": "markdown",
   "metadata": {},
   "source": [
    "# Things to add:\n",
    "0. Could try different feature engineering/using different columns from dataset (could add distance from seller to customer)\n",
    "1. Improve EDA. (e.g. something that shows if seller location is a good predictor)\n",
    "2. ROC AUC curves for classification models in model evaluation. It is important to determine if the model is classifying properly low and high scores.\n",
    "3. Add table with summary of evaluation scores for each model\n",
    "4. Feature selection: Implement one of the techniques in class for feature selection of the models\n",
    "5. (optional) Test 1 or 2 more models for comparison. Naive Bayes? MultiLogit?\n",
    "6. Cross validation model tuning. (GridSearchCV)\n",
    "7. Add precission and recall, false positive and false negatives. The most important would be for review scores of 1 or 2, since these are the customers we want to avoid from complaining. _Recall = TP/(TP+FN) : Precision = TP/(TP+FP)_"
   ]
  },
  {
   "cell_type": "markdown",
   "metadata": {},
   "source": [
    "## Objective proposal:  \n",
    "Predict review score for each order.  \n",
    "Once deployed, the model would predict the review score for each customer's order. If low, the company could issue a coupon/promotion/apology to the customer in order to prevent the bad review."
   ]
  },
  {
   "cell_type": "markdown",
   "metadata": {},
   "source": []
  }
 ],
 "metadata": {
  "interpreter": {
   "hash": "7b4b4feff2f24a0f0a34464dbe537a36fda679851528fb8735cb41fa49dffb2d"
  },
  "kernelspec": {
   "display_name": "Python 3.8.5 64-bit ('base': conda)",
   "name": "python3"
  },
  "language_info": {
   "codemirror_mode": {
    "name": "ipython",
    "version": 3
   },
   "file_extension": ".py",
   "mimetype": "text/x-python",
   "name": "python",
   "nbconvert_exporter": "python",
   "pygments_lexer": "ipython3",
   "version": "3.8.5"
  },
  "orig_nbformat": 4
 },
 "nbformat": 4,
 "nbformat_minor": 2
}
